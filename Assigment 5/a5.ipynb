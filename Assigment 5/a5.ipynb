{
  "nbformat": 4,
  "nbformat_minor": 0,
  "metadata": {
    "colab": {
      "provenance": []
    },
    "kernelspec": {
      "name": "python3",
      "display_name": "Python 3"
    },
    "language_info": {
      "name": "python"
    }
  },
  "cells": [
    {
      "cell_type": "code",
      "source": [
        "!pip install umap-learn"
      ],
      "metadata": {
        "id": "oaLoaOIL2ZW2"
      },
      "execution_count": null,
      "outputs": []
    },
    {
      "cell_type": "code",
      "execution_count": null,
      "metadata": {
        "id": "H3zCZ2292fBu"
      },
      "outputs": [],
      "source": [
        "import pandas as pd\n",
        "from sklearn.neighbors import KNeighborsClassifier\n",
        "from sklearn.metrics import mean_squared_error, rand_score\n",
        "from sklearn.cluster import KMeans\n",
        "import matplotlib.pyplot as plt\n",
        "import numpy as np\n",
        "import itertools\n",
        "from sklearn.random_projection import GaussianRandomProjection\n",
        "import umap\n",
        "from sklearn.preprocessing import StandardScaler, MinMaxScaler\n",
        "from scipy.cluster.hierarchy import dendrogram, linkage\n",
        "from sklearn.cluster import AgglomerativeClustering\n",
        "\n",
        "num_clusters = 10"
      ]
    },
    {
      "cell_type": "code",
      "source": [
        "df = pd.read_csv(\"/content/seeds.tsv\", delimiter='\\t')\n",
        "mapper = {'15.26' : \"Area\", # 1\n",
        "          '14.84' : \"Perimeter\", # 2\n",
        "          '0.871' : \"Compactness\", # 3\n",
        "          '5.763' : \"Kernel length\", # 4\n",
        "          '3.312' : \"Kernel width\", # 5\n",
        "          '2.221' : \"Asymmetry coefficient\", # 6\n",
        "          '5.22'  : \"Kernel groove length\" , # 7\n",
        "          '1'     : \"Numerical class label\"} # 8\n",
        "\n",
        "first_row = pd.DataFrame({v: [k] for k, v in mapper.items()})\n",
        "\n",
        "df = df.rename(columns=mapper)\n",
        "df = pd.concat([first_row, df], ignore_index=True) # [209 rows x 8 columns]\n",
        "df = df.astype(\"float\")\n",
        "print(df)\n",
        "\n",
        "scaler = MinMaxScaler()\n",
        "df_features = df.drop(\"Numerical class label\", axis=1)\n",
        "class_labels = df[\"Numerical class label\"]\n",
        "normalized_df = pd.DataFrame(scaler.fit_transform(df_features), columns=df_features.columns)\n",
        "df = pd.concat([normalized_df, class_labels], axis=1)\n",
        "print(\"\\n\")\n",
        "print(df)"
      ],
      "metadata": {
        "id": "HJXSE5HiKpqK"
      },
      "execution_count": null,
      "outputs": []
    },
    {
      "cell_type": "markdown",
      "source": [
        "We tried both standard and min-max normalization. We saw min-max normalization made the clusters a bit more apparent when plotting pairs of features in second task. And so, in the end, we opted for min-max scaling. This was easily done by calling on functions from the sklearn library."
      ],
      "metadata": {
        "id": "yjWF2mr3wQ87"
      }
    },
    {
      "cell_type": "code",
      "source": [
        "####################################PART 2####################################\n",
        "############COMPLETE AND WORKING############\n",
        "#features = []\n",
        "#for col in df.columns[:, -1]:\n",
        "#  features.append(df[col].to_numpy())\n",
        "#features = np.asarray(features)\n",
        "\n",
        "features = df.iloc[:, :-1].to_numpy()\n",
        "inertias = []\n",
        "for n in range(7):\n",
        "      kmeans = KMeans(n_clusters=n + 1, random_state=0).fit(features)\n",
        "      inertias.append(kmeans.inertia_)\n",
        "\n",
        "plt.plot(inertias, range(1, 8))\n",
        "plt.show()"
      ],
      "metadata": {
        "id": "O7or6MRMTkc5"
      },
      "execution_count": null,
      "outputs": []
    },
    {
      "cell_type": "markdown",
      "source": [
        "From the inspecting the graph we see that three is an appropriate number of clusters. This is known as the \"elbow method\", which we were taught about in the lectures."
      ],
      "metadata": {
        "id": "6JE4mvJwkthD"
      }
    },
    {
      "cell_type": "code",
      "source": [
        "####################################PART 3####################################\n",
        "############COMPLETE AND WORKING############\n",
        "# a)\n",
        "\n",
        "features = df.columns[: -1]\n",
        "combinations = list(itertools.product(features, features))\n",
        "cleaned_combinations = [tup for tup in combinations if tup[0] != tup[1]]\n",
        "\n",
        "for pair in cleaned_combinations:\n",
        "  plt.scatter(df[pair[0]], df[pair[1]])\n",
        "  plt.xlabel(pair[0])\n",
        "  plt.ylabel(pair[1])\n",
        "  plt.show()"
      ],
      "metadata": {
        "id": "NMX_wzGsK2VB"
      },
      "execution_count": null,
      "outputs": []
    },
    {
      "cell_type": "markdown",
      "source": [
        "We see many plots of pairs of features result in straight lines. This makes a lot of sense since many features are highly correlated. For example the plot of kernel length vs. kernel groove length is almost a straight line, which makes a lot of sense.\n",
        "\n",
        "More interesting is are the graphs in which we can make out some semblance of clustering - where we are able to, somewhat, make out the different classes. The graph which displays the highest degree of clustering is the one of compactness and kernel groove length. We can see a pretty clear deliniation between two of the classes and a less distinct one of the third class.  "
      ],
      "metadata": {
        "id": "fl_ZpduElsrN"
      }
    },
    {
      "cell_type": "code",
      "source": [
        "####################################PART 3####################################\n",
        "############COMPLETE AND WORKING############\n",
        "# b)\n",
        "#features = []\n",
        "#for col in df.columns[: -1]:\n",
        "#  features.append(df[col].to_numpy())\n",
        "#features = np.array(features).T\n",
        "\n",
        "features = df.iloc[:, :-1].to_numpy()\n",
        "reducer = GaussianRandomProjection(n_components=2, random_state=42)\n",
        "embedding = reducer.fit_transform(features)\n",
        "print(len(features[0])) # 7 x 210\n",
        "\n",
        "plt.scatter(embedding[:, 0], embedding[:, 1])\n",
        "plt.xlabel('Component 1')\n",
        "plt.ylabel('Component 2')\n",
        "plt.title('2D Scatter Plot after Gaussian Random Projection')\n",
        "plt.show()"
      ],
      "metadata": {
        "id": "xWkK2Au7DHDP"
      },
      "execution_count": null,
      "outputs": []
    },
    {
      "cell_type": "code",
      "source": [
        "####################################PART 3####################################\n",
        "############COMPLETE AND WORKING############\n",
        "# c)\n",
        "\n",
        "reducer = umap.UMAP(random_state=42)\n",
        "embedding = reducer.fit_transform(features)\n",
        "\n",
        "plt.scatter(embedding[:, 0], embedding[:, 1])\n",
        "plt.xlabel('Component 1', fontsize=14)\n",
        "plt.ylabel('Component 2', fontsize=14)\n",
        "plt.show()"
      ],
      "metadata": {
        "id": "w9oy94OL1Cgl"
      },
      "execution_count": null,
      "outputs": []
    },
    {
      "cell_type": "markdown",
      "source": [
        "It's not hard to imagine lines being drawn that separates the datapoints into three different sets. This is especially clear when looking at the graph we obtained by applying UMAP which displays a high degree of delineation between all three clusters and in which the imagined lines become more apparent.\n",
        "\n"
      ],
      "metadata": {
        "id": "5fV2sPC3pFR0"
      }
    },
    {
      "cell_type": "code",
      "source": [
        "####################################PART 4####################################\n",
        "############COMPLETE AND WORKING############\n",
        "#features = []\n",
        "#for col in df.columns[: -1]:\n",
        "#  features.append(df[col].to_numpy())\n",
        "#features = np.asarray(features).T\n",
        "\n",
        "features = df.iloc[:, :-1].to_numpy()\n",
        "kmeans = KMeans(n_clusters=3, random_state=0).fit(features)\n",
        "print(\"Rand index:\", rand_score(df[\"Numerical class label\"], kmeans.labels_))\n",
        "\n",
        "unique_mappings = [dict(zip([0, 1, 2], perm)) for perm in itertools.permutations([1, 2, 3])] # clusters are keys\n",
        "#print(unique_mappings)\n",
        "\n",
        "accuracy_list = []\n",
        "for mapping in unique_mappings: # {0: 2, 1: 3, 2: 1}\n",
        "  sum = 0\n",
        "  c1_class = mapping[0]       # {2 : 0, 3 : 1, 1 : 2}\n",
        "  c2_class = mapping[1]\n",
        "  c3_class = mapping[2]\n",
        "  for i in range(210):\n",
        "    if kmeans.labels_[i] == 0:\n",
        "      if int(df.iloc[i, -1]) == c1_class:\n",
        "        sum = sum + 1\n",
        "    if kmeans.labels_[i] == 1:\n",
        "      if int(df.iloc[i, -1]) == c2_class:\n",
        "        sum = sum + 1\n",
        "    if kmeans.labels_[i] == 2:\n",
        "      if int(df.iloc[i, -1]) == c3_class:\n",
        "        sum = sum + 1\n",
        "  accuracy_list.append((float(sum/210), mapping))\n",
        "\n",
        "max_accuracy = max(accuracy_list, key=lambda x: x[0])\n",
        "print(\"The highest accuracy and its associated mapping:\", max_accuracy)\n"
      ],
      "metadata": {
        "id": "atQd8FE4BxN1"
      },
      "execution_count": null,
      "outputs": []
    },
    {
      "cell_type": "markdown",
      "source": [
        "Rand index: 0.8641604010025062\n",
        "\n",
        "The highest accuracy and its associated mapping:\n",
        "(0.8857142857142857, {0: 2, 1: 3, 2: 1})"
      ],
      "metadata": {
        "id": "b23il5e7rkE9"
      }
    },
    {
      "cell_type": "code",
      "source": [
        "############COMPLETE AND WORKING############\n",
        "def accuracy(model):\n",
        "  unique_mappings = [dict(zip([0, 1, 2], perm)) for perm in itertools.permutations([1, 2, 3])] # clusters are keys\n",
        "\n",
        "  accuracy_list = []\n",
        "  for mapping in unique_mappings:\n",
        "    sum = 0\n",
        "    c1_class = mapping[0]\n",
        "    c2_class = mapping[1]\n",
        "    c3_class = mapping[2]\n",
        "    for i in range(210):\n",
        "      if model.labels_[i] == 0:\n",
        "        if int(df.iloc[i, -1]) == c1_class:\n",
        "          sum = sum + 1\n",
        "      if model.labels_[i] == 1:\n",
        "        if int(df.iloc[i, -1]) == c2_class:\n",
        "          sum = sum + 1\n",
        "      if model.labels_[i] == 2:\n",
        "        if int(df.iloc[i, -1]) == c3_class:\n",
        "          sum = sum + 1\n",
        "\n",
        "    accuracy_list.append((float(sum/210), mapping))\n",
        "  return max(accuracy_list, key=lambda x: x[0])\n",
        "###################################################################################################\n",
        "#features = []\n",
        "#for col in df.columns[: -1]:\n",
        "#  features.append(df[col].to_numpy())\n",
        "#features = np.array(features).T\n",
        "features = df.iloc[:, :-1].to_numpy()\n",
        "#print(features.shape)\n",
        "\n",
        "clustering_ward = AgglomerativeClustering(n_clusters=3, linkage=\"ward\").fit(features) # {‘ward’, ‘complete’, ‘average’, ‘single’},\n",
        "clustering_complete = AgglomerativeClustering(n_clusters=3, linkage=\"complete\").fit(features)\n",
        "clustering_average = AgglomerativeClustering(n_clusters=3, linkage=\"average\").fit(features)\n",
        "clustering_single = AgglomerativeClustering(n_clusters=3, linkage=\"single\").fit(features)\n",
        "\n",
        "clustering_ward_acc = accuracy(clustering_ward)\n",
        "clustering_complete_acc = accuracy(clustering_complete)\n",
        "clustering_average_acc = accuracy(clustering_average)\n",
        "clustering_single_acc = accuracy(clustering_single)\n",
        "\n",
        "print(\"Ward acc :\", clustering_ward_acc)\n",
        "print(\"Complete acc :\", clustering_complete_acc)\n",
        "print(\"Average acc :\", clustering_average_acc) # {0: 1, 1: 2, 2: 3})\n",
        "print(\"Single acc :\", clustering_single_acc) # The highest accuracy and its associated mapping: (0.8857142857142857, {0: 2, 1: 3, 2: 1})"
      ],
      "metadata": {
        "id": "fq57_HK5pp9e"
      },
      "execution_count": null,
      "outputs": []
    },
    {
      "cell_type": "code",
      "source": [
        "# Plotting dendrogram for task 5\n",
        "\n",
        "linkage_matrix = linkage(features)\n",
        "fig = plt.figure(figsize=(50, 20))\n",
        "labels = df[\"Numerical class label\"].astype(str).tolist()\n",
        "dn = dendrogram(linkage_matrix, labels=labels, color_threshold=0.2)\n",
        "plt.xlabel(\"Class labels\")\n",
        "plt.ylabel(\"Distance\")\n",
        "plt.show()"
      ],
      "metadata": {
        "id": "B4p-7SEw-sY_"
      },
      "execution_count": null,
      "outputs": []
    },
    {
      "cell_type": "markdown",
      "source": [
        "We see that the average linkage method works best. This is a more \"robust\" linkage method since it considers *all* the points in a pair of clusters and not just the closest points, unlike single or complete linkage.\n",
        "\n",
        "We also have well-behaved data; the classes are all roughly the same size and there are no particularly outlying datapoints that will have a disproporionate impact on the average."
      ],
      "metadata": {
        "id": "IsUI8S7QuZDq"
      }
    }
  ]
}