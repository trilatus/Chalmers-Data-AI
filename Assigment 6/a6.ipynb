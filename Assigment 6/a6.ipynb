{
  "nbformat": 4,
  "nbformat_minor": 0,
  "metadata": {
    "colab": {
      "provenance": []
    },
    "kernelspec": {
      "name": "python3",
      "display_name": "Python 3"
    },
    "language_info": {
      "name": "python"
    }
  },
  "cells": [
    {
      "cell_type": "code",
      "execution_count": null,
      "metadata": {
        "id": "n4_CVILx4ILt"
      },
      "outputs": [],
      "source": [
        "plot_samples = False\n",
        "import torchvision.datasets.mnist\n",
        "import matplotlib.pyplot as plt\n",
        "import torchvision.transforms as transforms\n",
        "from torch.utils.data import DataLoader\n",
        "import torch.nn as nn\n",
        "import torch.optim"
      ]
    },
    {
      "cell_type": "code",
      "source": [
        "transform = transforms.ToTensor()\n",
        "\n",
        "# load the mnist dataset, training and testsplit\n",
        "mnist_train = torchvision.datasets.MNIST(root='/content/data', train=True, download=True, transform=transform)\n",
        "mnist_test = torchvision.datasets.MNIST(root='/content/data', train=False, download=True, transform=transform)\n",
        "\n",
        "# plot an image from the training and testing set\n",
        "train_sample = mnist_train[0]\n",
        "test_sample = mnist_test[0]\n",
        "if plot_samples:\n",
        "    plt.imshow(train_sample[0].squeeze(), cmap=\"grey\")\n",
        "    plt.savefig(\"train_sample\")\n",
        "    plt.imshow(test_sample[0].squeeze(), cmap=\"grey\")\n",
        "    plt.savefig(\"test_sample\")"
      ],
      "metadata": {
        "id": "3FBJQ4V94PX-",
        "colab": {
          "base_uri": "https://localhost:8080/"
        },
        "outputId": "2b79af91-103b-46fb-ea25-a8d890538cc5"
      },
      "execution_count": null,
      "outputs": [
        {
          "output_type": "stream",
          "name": "stdout",
          "text": [
            "Downloading http://yann.lecun.com/exdb/mnist/train-images-idx3-ubyte.gz\n",
            "Failed to download (trying next):\n",
            "<urlopen error [SSL: CERTIFICATE_VERIFY_FAILED] certificate verify failed: certificate has expired (_ssl.c:1007)>\n",
            "\n",
            "Downloading https://ossci-datasets.s3.amazonaws.com/mnist/train-images-idx3-ubyte.gz\n",
            "Downloading https://ossci-datasets.s3.amazonaws.com/mnist/train-images-idx3-ubyte.gz to /content/data/MNIST/raw/train-images-idx3-ubyte.gz\n"
          ]
        },
        {
          "output_type": "stream",
          "name": "stderr",
          "text": [
            "100%|██████████| 9912422/9912422 [00:01<00:00, 6507410.85it/s] \n"
          ]
        },
        {
          "output_type": "stream",
          "name": "stdout",
          "text": [
            "Extracting /content/data/MNIST/raw/train-images-idx3-ubyte.gz to /content/data/MNIST/raw\n",
            "\n",
            "Downloading http://yann.lecun.com/exdb/mnist/train-labels-idx1-ubyte.gz\n",
            "Failed to download (trying next):\n",
            "<urlopen error [SSL: CERTIFICATE_VERIFY_FAILED] certificate verify failed: certificate has expired (_ssl.c:1007)>\n",
            "\n",
            "Downloading https://ossci-datasets.s3.amazonaws.com/mnist/train-labels-idx1-ubyte.gz\n",
            "Downloading https://ossci-datasets.s3.amazonaws.com/mnist/train-labels-idx1-ubyte.gz to /content/data/MNIST/raw/train-labels-idx1-ubyte.gz\n"
          ]
        },
        {
          "output_type": "stream",
          "name": "stderr",
          "text": [
            "100%|██████████| 28881/28881 [00:00<00:00, 481582.01it/s]\n"
          ]
        },
        {
          "output_type": "stream",
          "name": "stdout",
          "text": [
            "Extracting /content/data/MNIST/raw/train-labels-idx1-ubyte.gz to /content/data/MNIST/raw\n",
            "\n",
            "Downloading http://yann.lecun.com/exdb/mnist/t10k-images-idx3-ubyte.gz\n",
            "Failed to download (trying next):\n",
            "<urlopen error [SSL: CERTIFICATE_VERIFY_FAILED] certificate verify failed: certificate has expired (_ssl.c:1007)>\n",
            "\n",
            "Downloading https://ossci-datasets.s3.amazonaws.com/mnist/t10k-images-idx3-ubyte.gz\n",
            "Downloading https://ossci-datasets.s3.amazonaws.com/mnist/t10k-images-idx3-ubyte.gz to /content/data/MNIST/raw/t10k-images-idx3-ubyte.gz\n"
          ]
        },
        {
          "output_type": "stream",
          "name": "stderr",
          "text": [
            "100%|██████████| 1648877/1648877 [00:00<00:00, 4369687.56it/s]\n"
          ]
        },
        {
          "output_type": "stream",
          "name": "stdout",
          "text": [
            "Extracting /content/data/MNIST/raw/t10k-images-idx3-ubyte.gz to /content/data/MNIST/raw\n",
            "\n",
            "Downloading http://yann.lecun.com/exdb/mnist/t10k-labels-idx1-ubyte.gz\n",
            "Failed to download (trying next):\n",
            "<urlopen error [SSL: CERTIFICATE_VERIFY_FAILED] certificate verify failed: certificate has expired (_ssl.c:1007)>\n",
            "\n",
            "Downloading https://ossci-datasets.s3.amazonaws.com/mnist/t10k-labels-idx1-ubyte.gz\n",
            "Downloading https://ossci-datasets.s3.amazonaws.com/mnist/t10k-labels-idx1-ubyte.gz to /content/data/MNIST/raw/t10k-labels-idx1-ubyte.gz\n"
          ]
        },
        {
          "output_type": "stream",
          "name": "stderr",
          "text": [
            "100%|██████████| 4542/4542 [00:00<00:00, 3358696.89it/s]\n"
          ]
        },
        {
          "output_type": "stream",
          "name": "stdout",
          "text": [
            "Extracting /content/data/MNIST/raw/t10k-labels-idx1-ubyte.gz to /content/data/MNIST/raw\n",
            "\n"
          ]
        }
      ]
    },
    {
      "cell_type": "code",
      "source": [
        "train_dataloader = DataLoader(mnist_train)\n",
        "test_dataloader = DataLoader(mnist_test)\n",
        "\n",
        "for X, y in test_dataloader:\n",
        "    print(f\"Shape of X [N, C, H, W]: {X.shape}\")\n",
        "    print(f\"Shape of y: {y.shape} {y.dtype}\")\n",
        "    break"
      ],
      "metadata": {
        "id": "x1Y8Chgm4Rf-",
        "colab": {
          "base_uri": "https://localhost:8080/"
        },
        "outputId": "93773b48-9d87-45bd-e950-887e5c7221f8"
      },
      "execution_count": null,
      "outputs": [
        {
          "output_type": "stream",
          "name": "stdout",
          "text": [
            "Shape of X [N, C, H, W]: torch.Size([1, 1, 28, 28])\n",
            "Shape of y: torch.Size([1]) torch.int64\n"
          ]
        }
      ]
    },
    {
      "cell_type": "code",
      "source": [
        "class NeuralNetwork(nn.Module):\n",
        "    def __init__(self, topology):\n",
        "        super().__init__()\n",
        "        self.flatten = nn.Flatten()\n",
        "        match topology:\n",
        "            case \"single_hidden_layer\":\n",
        "                self.linear_relu_stack = nn.Sequential(\n",
        "                nn.Linear(28*28, 512),\n",
        "                nn.ReLU(),\n",
        "                nn.Linear(512, 512),\n",
        "                nn.ReLU(),\n",
        "                nn.Linear(512, 10)\n",
        "            )\n",
        "            case \"two_layers\":\n",
        "                self.linear_relu_stack = nn.Sequential(\n",
        "                nn.Linear(28*28, 500),\n",
        "                nn.ReLU(),\n",
        "                nn.Linear(500, 300),\n",
        "                nn.ReLU(),\n",
        "                nn.Linear(300, 512),\n",
        "                nn.ReLU(),\n",
        "                nn.Linear(512, 10)\n",
        "            )\n",
        "            case \"cnn\":\n",
        "                # TODO\n",
        "\n",
        "\n",
        "    def forward(self, x):\n",
        "        x = self.flatten(x)\n",
        "        logits = self.linear_relu_stack(x)\n",
        "        return logits"
      ],
      "metadata": {
        "id": "wLomHhFh4VG0",
        "colab": {
          "base_uri": "https://localhost:8080/",
          "height": 126
        },
        "outputId": "1a63e2ae-c825-4368-8ec9-8c4271d52319"
      },
      "execution_count": null,
      "outputs": [
        {
          "output_type": "error",
          "ename": "IndentationError",
          "evalue": "expected an indented block after 'case' statement on line 24 (<ipython-input-5-26c51ff9196a>, line 28)",
          "traceback": [
            "\u001b[0;36m  File \u001b[0;32m\"<ipython-input-5-26c51ff9196a>\"\u001b[0;36m, line \u001b[0;32m28\u001b[0m\n\u001b[0;31m    def forward(self, x):\u001b[0m\n\u001b[0m    ^\u001b[0m\n\u001b[0;31mIndentationError\u001b[0m\u001b[0;31m:\u001b[0m expected an indented block after 'case' statement on line 24\n"
          ]
        }
      ]
    },
    {
      "cell_type": "markdown",
      "source": [
        "The only parameters that I chose were the input/output features. I chose 512 output features from the inputlayer and 512 output feauters again, from the hidden layer to the output layer. The only real reason I chose this value was because it was the one that they used in the PyTorch tutorial. Since they were using the Fashion-MNIST dataset, in which the pictures have the same dimension and channels as the ones in regular MNIST, I figured that these values would be appropriate."
      ],
      "metadata": {
        "id": "Ul03eNn-Iljo"
      }
    },
    {
      "cell_type": "code",
      "source": [
        "def train(dataloader, model, loss_fn, optimizer):\n",
        "    size = len(dataloader.dataset)\n",
        "    model.train()\n",
        "    for batch, (X, y) in enumerate(dataloader):\n",
        "        pred = model(X)\n",
        "        loss = loss_fn(pred, y)\n",
        "\n",
        "        loss.backward()\n",
        "        optimizer.step()\n",
        "        optimizer.zero_grad()\n",
        "\n",
        "        if batch % 100 == 0:\n",
        "            loss, current = loss.item(), (batch + 1) * len(X)\n",
        "            #print(f\"loss: {loss:>7f}  [{current:>5d}/{size:>5d}]\")\n",
        "\n",
        "def test(dataloader, model, loss_fn):\n",
        "    size = len(dataloader.dataset)\n",
        "    num_batches = len(dataloader)\n",
        "    model.eval()\n",
        "    test_loss, correct = 0, 0\n",
        "    with torch.no_grad():\n",
        "        for X, y in dataloader:\n",
        "            pred = model(X)\n",
        "            test_loss += loss_fn(pred, y).item()\n",
        "            correct += (pred.argmax(1) == y).type(torch.float).sum().item()\n",
        "    test_loss /= num_batches\n",
        "    correct /= size\n",
        "    print(f\"Test Error: \\n Accuracy: {(100*correct):>0.1f}%, Avg loss: {test_loss:>8f} \\n\")"
      ],
      "metadata": {
        "id": "Ur7JKzdq4Z3k"
      },
      "execution_count": null,
      "outputs": []
    },
    {
      "cell_type": "code",
      "source": [
        "model = NeuralNetwork(topology=\"single_hidden_layer\")\n",
        "loss_fn = nn.CrossEntropyLoss()\n",
        "optimizer = torch.optim.SGD(model.parameters(), lr=1e-3)\n",
        "\n",
        "epochs = 10\n",
        "for t in range(epochs):\n",
        "    print(f\"Epoch {t+1}\\n-------------------------------\")\n",
        "    train(train_dataloader, model, loss_fn, optimizer)\n",
        "print(\"Done!\")"
      ],
      "metadata": {
        "id": "zjLjz_Hu4l3s",
        "colab": {
          "base_uri": "https://localhost:8080/",
          "height": 231
        },
        "outputId": "7a984b3f-48cd-4c55-c2a6-6cf5629a4469"
      },
      "execution_count": null,
      "outputs": [
        {
          "output_type": "error",
          "ename": "NameError",
          "evalue": "name 'NeuralNetwork' is not defined",
          "traceback": [
            "\u001b[0;31m---------------------------------------------------------------------------\u001b[0m",
            "\u001b[0;31mNameError\u001b[0m                                 Traceback (most recent call last)",
            "\u001b[0;32m<ipython-input-7-5e31ca15979c>\u001b[0m in \u001b[0;36m<cell line: 1>\u001b[0;34m()\u001b[0m\n\u001b[0;32m----> 1\u001b[0;31m \u001b[0mmodel\u001b[0m \u001b[0;34m=\u001b[0m \u001b[0mNeuralNetwork\u001b[0m\u001b[0;34m(\u001b[0m\u001b[0mtopology\u001b[0m\u001b[0;34m=\u001b[0m\u001b[0;34m\"single_hidden_layer\"\u001b[0m\u001b[0;34m)\u001b[0m\u001b[0;34m\u001b[0m\u001b[0;34m\u001b[0m\u001b[0m\n\u001b[0m\u001b[1;32m      2\u001b[0m \u001b[0mloss_fn\u001b[0m \u001b[0;34m=\u001b[0m \u001b[0mnn\u001b[0m\u001b[0;34m.\u001b[0m\u001b[0mCrossEntropyLoss\u001b[0m\u001b[0;34m(\u001b[0m\u001b[0;34m)\u001b[0m\u001b[0;34m\u001b[0m\u001b[0;34m\u001b[0m\u001b[0m\n\u001b[1;32m      3\u001b[0m \u001b[0moptimizer\u001b[0m \u001b[0;34m=\u001b[0m \u001b[0mtorch\u001b[0m\u001b[0;34m.\u001b[0m\u001b[0moptim\u001b[0m\u001b[0;34m.\u001b[0m\u001b[0mSGD\u001b[0m\u001b[0;34m(\u001b[0m\u001b[0mmodel\u001b[0m\u001b[0;34m.\u001b[0m\u001b[0mparameters\u001b[0m\u001b[0;34m(\u001b[0m\u001b[0;34m)\u001b[0m\u001b[0;34m,\u001b[0m \u001b[0mlr\u001b[0m\u001b[0;34m=\u001b[0m\u001b[0;36m1e-3\u001b[0m\u001b[0;34m)\u001b[0m\u001b[0;34m\u001b[0m\u001b[0;34m\u001b[0m\u001b[0m\n\u001b[1;32m      4\u001b[0m \u001b[0;34m\u001b[0m\u001b[0m\n\u001b[1;32m      5\u001b[0m \u001b[0mepochs\u001b[0m \u001b[0;34m=\u001b[0m \u001b[0;36m10\u001b[0m\u001b[0;34m\u001b[0m\u001b[0;34m\u001b[0m\u001b[0m\n",
            "\u001b[0;31mNameError\u001b[0m: name 'NeuralNetwork' is not defined"
          ]
        }
      ]
    },
    {
      "cell_type": "markdown",
      "source": [
        "Epoch 1\n",
        "-------------------------------\n",
        "Test Error:\n",
        " Accuracy: 92.0%, Avg loss: 0.268380\n",
        "\n",
        "Epoch 2\n",
        "-------------------------------\n",
        "Test Error:\n",
        " Accuracy: 94.3%, Avg loss: 0.185549\n",
        "\n",
        "Epoch 3\n",
        "-------------------------------\n",
        "Test Error:\n",
        " Accuracy: 95.5%, Avg loss: 0.143503\n",
        "\n",
        "Epoch 4\n",
        "-------------------------------\n",
        "Test Error:\n",
        " Accuracy: 96.4%, Avg loss: 0.118555\n",
        "\n",
        "Epoch 5\n",
        "-------------------------------\n",
        "Test Error:\n",
        " Accuracy: 97.0%, Avg loss: 0.102227\n",
        "\n",
        "Epoch 6\n",
        "-------------------------------\n",
        "Test Error:\n",
        " Accuracy: 97.2%, Avg loss: 0.091949\n",
        "\n",
        "Epoch 7\n",
        "-------------------------------\n",
        "Test Error:\n",
        " Accuracy: 97.4%, Avg loss: 0.084933\n",
        "\n",
        "Epoch 8\n",
        "-------------------------------\n",
        "Test Error:\n",
        " Accuracy: 97.5%, Avg loss: 0.080052\n",
        "\n",
        "Epoch 9\n",
        "-------------------------------\n",
        "Test Error:\n",
        " Accuracy: 97.7%, Avg loss: 0.076061\n",
        "\n",
        "Epoch 10\n",
        "-------------------------------\n",
        "Test Error:\n",
        " Accuracy: 97.8%, Avg loss: 0.073988"
      ],
      "metadata": {
        "id": "jRc8M7mqwjTB"
      }
    },
    {
      "cell_type": "code",
      "source": [
        "model = NeuralNetwork(topology=\"two_layers\")\n",
        "loss_fn = nn.CrossEntropyLoss()\n",
        "optimizer = torch.optim.SGD(model.parameters(), lr=1e-3, weight_decay=0.0005)\n",
        "\n",
        "epochs = 40\n",
        "for t in range(epochs):\n",
        "    print(f\"Epoch {t+1}\\n-------------------------------\")\n",
        "    train(train_dataloader, model, loss_fn, optimizer)\n",
        "print(\"Done!\")"
      ],
      "metadata": {
        "id": "A4T685O7ntMN"
      },
      "execution_count": null,
      "outputs": []
    },
    {
      "cell_type": "markdown",
      "source": [
        "\n",
        "=======================================TWO_LAYERS=======================================\n",
        "\n",
        "Epoch 1\n",
        "-------------------------------\n",
        "Test Error:\n",
        " Accuracy: 91.4%, Avg loss: 0.278967\n",
        "\n",
        "Epoch 2\n",
        "-------------------------------\n",
        "Test Error:\n",
        " Accuracy: 94.7%, Avg loss: 0.173336\n",
        "\n",
        "Epoch 3\n",
        "-------------------------------\n",
        "Test Error:\n",
        " Accuracy: 96.0%, Avg loss: 0.129509\n",
        "\n",
        "Epoch 4\n",
        "-------------------------------\n",
        "Test Error:\n",
        " Accuracy: 96.6%, Avg loss: 0.105004\n",
        "\n",
        "Epoch 5\n",
        "-------------------------------\n",
        "Test Error:\n",
        " Accuracy: 97.1%, Avg loss: 0.093644\n",
        "\n",
        "Epoch 6\n",
        "-------------------------------\n",
        "Test Error:\n",
        " Accuracy: 97.2%, Avg loss: 0.087248\n",
        "\n",
        "Epoch 7\n",
        "-------------------------------\n",
        "Test Error:\n",
        " Accuracy: 97.3%, Avg loss: 0.085166\n",
        "\n",
        "Epoch 8\n",
        "-------------------------------\n",
        "Test Error:\n",
        " Accuracy: 97.4%, Avg loss: 0.082628\n",
        "\n",
        "Epoch 9\n",
        "-------------------------------\n",
        "Test Error:\n",
        " Accuracy: 97.3%, Avg loss: 0.083641\n",
        "\n",
        "Epoch 10\n",
        "-------------------------------\n",
        "Test Error:\n",
        " Accuracy: 97.4%, Avg loss: 0.082626\n",
        "\n",
        "Epoch 11\n",
        "-------------------------------\n",
        "Test Error:\n",
        " Accuracy: 97.5%, Avg loss: 0.080177\n",
        "\n",
        "Epoch 12\n",
        "-------------------------------\n",
        "Test Error:\n",
        " Accuracy: 97.5%, Avg loss: 0.078681\n",
        "\n",
        "Epoch 13\n",
        "-------------------------------\n",
        "Test Error:\n",
        " Accuracy: 97.6%, Avg loss: 0.079203\n",
        "\n",
        "Epoch 14\n",
        "-------------------------------\n",
        "Test Error:\n",
        " Accuracy: 97.7%, Avg loss: 0.075715\n",
        "\n",
        "Epoch 15\n",
        "-------------------------------\n",
        "Test Error:\n",
        " Accuracy: 97.8%, Avg loss: 0.075144\n",
        "\n",
        "Epoch 16\n",
        "-------------------------------\n",
        "Test Error:\n",
        " Accuracy: 97.8%, Avg loss: 0.073845\n",
        "\n",
        "Epoch 17\n",
        "-------------------------------\n",
        "Test Error:\n",
        " Accuracy: 97.8%, Avg loss: 0.073529\n",
        "\n",
        "Epoch 18\n",
        "-------------------------------\n",
        "Test Error:\n",
        " Accuracy: 97.8%, Avg loss: 0.073852\n",
        "\n",
        "Epoch 19\n",
        "-------------------------------\n",
        "Test Error:\n",
        " Accuracy: 97.8%, Avg loss: 0.073472\n",
        "\n",
        "Epoch 20\n",
        "-------------------------------\n",
        "Test Error:\n",
        " Accuracy: 97.7%, Avg loss: 0.073709\n",
        "\n",
        "Epoch 21\n",
        "-------------------------------\n",
        "Test Error:\n",
        " Accuracy: 97.7%, Avg loss: 0.074024\n",
        "\n",
        "Epoch 22\n",
        "-------------------------------\n",
        "Test Error:\n",
        " Accuracy: 97.7%, Avg loss: 0.073715\n",
        "\n",
        "Epoch 23\n",
        "-------------------------------\n",
        "Test Error:\n",
        " Accuracy: 97.7%, Avg loss: 0.074576\n",
        "\n",
        "Epoch 24\n",
        "-------------------------------\n",
        "Test Error:\n",
        " Accuracy: 97.7%, Avg loss: 0.073206\n",
        "\n",
        "Epoch 25\n",
        "-------------------------------\n",
        "Test Error:\n",
        " Accuracy: 97.8%, Avg loss: 0.070811\n",
        "\n",
        "Epoch 26\n",
        "-------------------------------\n",
        "Test Error:\n",
        " Accuracy: 97.8%, Avg loss: 0.070414\n",
        "\n",
        "Epoch 27\n",
        "-------------------------------\n",
        "Test Error:\n",
        " Accuracy: 97.8%, Avg loss: 0.069112\n",
        "\n",
        "Epoch 28\n",
        "-------------------------------\n",
        "Test Error:\n",
        " Accuracy: 97.9%, Avg loss: 0.067155\n",
        "\n",
        "Epoch 29\n",
        "-------------------------------\n",
        "Test Error:\n",
        " Accuracy: 98.0%, Avg loss: 0.065977\n",
        "\n",
        "Epoch 30\n",
        "-------------------------------\n",
        "Test Error:\n",
        " Accuracy: 98.0%, Avg loss: 0.065002\n",
        "\n",
        "Epoch 31\n",
        "-------------------------------\n",
        "Test Error:\n",
        " Accuracy: 98.0%, Avg loss: 0.066218\n",
        "\n",
        "Epoch 32\n",
        "-------------------------------\n",
        "Test Error:\n",
        " Accuracy: 98.1%, Avg loss: 0.064178\n",
        "\n",
        "Epoch 33\n",
        "-------------------------------\n",
        "Test Error:\n",
        " Accuracy: 98.0%, Avg loss: 0.065483\n",
        "\n",
        "Epoch 34\n",
        "-------------------------------\n",
        "Test Error:\n",
        " Accuracy: 98.0%, Avg loss: 0.064749\n",
        "\n",
        "Epoch 35\n",
        "-------------------------------\n",
        "Test Error:\n",
        " Accuracy: 98.0%, Avg loss: 0.064682\n",
        "\n",
        "Epoch 36\n",
        "-------------------------------\n",
        "Test Error:\n",
        " Accuracy: 98.1%, Avg loss: 0.063898\n",
        "\n",
        "Epoch 37\n",
        "-------------------------------\n",
        "Test Error:\n",
        " Accuracy: 98.0%, Avg loss: 0.064737\n",
        "\n",
        "Epoch 38\n",
        "-------------------------------\n",
        "Test Error:\n",
        " Accuracy: 98.0%, Avg loss: 0.064277\n",
        "\n",
        "Epoch 39\n",
        "-------------------------------\n",
        "Test Error:\n",
        " Accuracy: 98.0%, Avg loss: 0.064417\n",
        "\n",
        "Epoch 40\n",
        "-------------------------------\n",
        "Test Error:\n",
        " Accuracy: 98.1%, Avg loss: 0.063805"
      ],
      "metadata": {
        "id": "PcH44-s3n-TB"
      }
    }
  ]
}